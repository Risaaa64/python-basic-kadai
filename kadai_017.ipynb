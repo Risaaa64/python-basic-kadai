{
  "nbformat": 4,
  "nbformat_minor": 0,
  "metadata": {
    "colab": {
      "provenance": []
    },
    "kernelspec": {
      "name": "python3",
      "display_name": "Python 3"
    },
    "language_info": {
      "name": "python"
    }
  },
  "cells": [
    {
      "cell_type": "code",
      "execution_count": 1,
      "metadata": {
        "colab": {
          "base_uri": "https://localhost:8080/"
        },
        "id": "wnmP6NBBbDa6",
        "outputId": "742bb318-3deb-4be9-c931-25e35ebd6637"
      },
      "outputs": [
        {
          "output_type": "stream",
          "name": "stdout",
          "text": [
            "侍花子さんは大人ではありません。\n",
            "侍太郎さんは大人です。\n",
            "侍二郎さんは大人です。\n",
            "侍三郎さんは大人ではありません。\n"
          ]
        }
      ],
      "source": [
        "class Human:\n",
        "    def __init__(self, name, age):\n",
        "        self.name = name\n",
        "        self.age = age\n",
        "\n",
        "    def check_adult(self):\n",
        "        if self.age >= 20:\n",
        "            print(f\"{self.name}さんは大人です。\")\n",
        "        else:\n",
        "            print(f\"{self.name}さんは大人ではありません。\")\n",
        "\n",
        "human1 = Human(\"侍花子\", 19)\n",
        "human2 = Human(\"侍太郎\", 30)\n",
        "human3 = Human(\"侍二郎\", 22)\n",
        "human4 = Human(\"侍三郎\", 17)\n",
        "\n",
        "human1.check_adult()\n",
        "human2.check_adult()\n",
        "human3.check_adult()\n",
        "human4.check_adult()"
      ]
    }
  ]
}