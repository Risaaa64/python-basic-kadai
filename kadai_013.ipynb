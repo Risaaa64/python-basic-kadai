{
  "nbformat": 4,
  "nbformat_minor": 0,
  "metadata": {
    "colab": {
      "provenance": []
    },
    "kernelspec": {
      "name": "python3",
      "display_name": "Python 3"
    },
    "language_info": {
      "name": "python"
    }
  },
  "cells": [
    {
      "cell_type": "code",
      "execution_count": 2,
      "metadata": {
        "colab": {
          "base_uri": "https://localhost:8080/"
        },
        "id": "MKHAUfVkV9E4",
        "outputId": "d768f023-6000-411c-a4bf-88c2c7888e90"
      },
      "outputs": [
        {
          "output_type": "stream",
          "name": "stdout",
          "text": [
            "1320.0円\n"
          ]
        }
      ],
      "source": [
        "def total_price(price, tax):\n",
        "    total = price * tax\n",
        "\n",
        "    print(f\"{total}円\")\n",
        "\n",
        "total_price(1200, 1.1)"
      ]
    }
  ]
}